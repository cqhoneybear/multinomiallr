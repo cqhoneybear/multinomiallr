{
  "cells": [
    {
      "cell_type": "code",
      "source": [],
      "outputs": [],
      "execution_count": 65,
      "metadata": {
        "collapsed": false,
        "outputHidden": false,
        "inputHidden": false
      }
    },
    {
      "cell_type": "markdown",
      "source": [
        "# Multinomial Logistic Regression\n",
        "# \n",
        "## 2018-09-26\n",
        "# \n",
        "## *Qin CAO*\n",
        "# \n",
        "Logistic regression is a widely-used model when the response is categorical. If there are two possible outcomes, we use the binomial distribution, else we use the multinomial.\n",
        "## Binomial Logistic Regression\n",
        "For the binomial model, suppose the response variable takes value in $\\mathcal{G}=\\{1,2\\}$. Denote $y_i = I(g_i=1)$. \n",
        "\n",
        "We model\n",
        "$$\\mbox{Pr}(G=2|X=x)=\\frac{e^{\\beta_0+\\beta^Tx}}{1+e^{\\beta_0+\\beta^Tx}}, [1]$$\n",
        "and thus $$\\mbox{Pr}(G=1|X=x)=1-\\frac{e^{\\beta_0+\\beta^Tx}}{1+e^{\\beta_0+\\beta^Tx}}, [2]$$\n",
        "which can be written in the following form\n",
        "$$\\log\\frac{\\mbox{Pr}(G=2|X=x)}{\\mbox{Pr}(G=1|X=x)}=\\beta_0+\\beta^Tx, [3]$$\n",
        "the so-called “logistic” or log-odds transformation. From the formula, we can see that it is very similar to linear regression except that now we are not modeling reponse directly but rather modeling log-odds linearly. We should note we model the \"relative probability\" here.\n",
        "\n",
        "The objective function for the penalized logistic regression uses the negative binomial log-likelihood, and is\n",
        "$$\\min_{(\\beta_0, \\beta) \\in \\mathbb{R}^{p+1}} -\\left[\\frac{1}{N} \\sum_{i=1}^N y_i \\cdot (\\beta_0 + x_i^T \\beta) - \\log (1+e^{(\\beta_0+x_i^T \\beta)})\\right] + \\lambda \\big[ (1-\\alpha)||\\beta||_2^2/2 + \\alpha||\\beta||_1\\big]. [4]$$\n",
        "Logistic regression is often plagued with degeneracies when $p>N$ and exhibits wild behavior even when $N$ is close to $p$; the elastic-net penalty alleviates these issues, and regularizes and selects variables as well.\n",
        "\n",
        "## Multinomial Logistic Regression\n",
        "For the multinomial model, suppose the response variable has $K$ levels ${\\cal G}=\\{1,2,\\ldots,K\\}$. Here we model\n",
        "$$\\mbox{Pr}(G=k|X=x)=\\frac{e^{\\beta_{k}+\\beta_k^Tx}}{\\sum_{\\ell=1}^Ke^{\\beta_{0\\ell}+\\beta_\\ell^Tx}}. [5]$$\n",
        "\n",
        "Let $Y$ be the $N \\times K$ indicator response matrix, with elements $y_{i\\ell} = I(g_i=\\ell)$. Then the elastic-net penalized negative log-likelihood function becomes\n",
        "$$\\ell(\\{\\beta_{0k},\\beta_{k}\\}_1^K) = -\\left[\\frac{1}{N} \\sum_{i=1}^N \\Big(\\sum_{k=1}^Ky_{il} (\\beta_{0k} + x_i^T \\beta_k)- \\log \\big(\\sum_{k=1}^K e^{\\beta_{0k}+x_i^T \\beta_k}\\big)\\Big)\\right] +\\lambda \\left[ (1-\\alpha)||\\beta||_F^2/2 + \\alpha\\sum_{j=1}^p||\\beta_j||_q\\right]. [6]$$\n",
        "\n",
        "$\\beta$ is a $p\\times K$ matrix of coefficients. $\\beta_k$ refers to the kth column (for outcome category k), and $\\beta_j$ the jth row (vector of K coefficients for variable j). The last penalty term is $||\\beta_j||_q$, which denotes lasso penalty or grouped-lasso penalty. From the formula, we can get an intuitive feeling that the prediction to a certain class is not only related to the $\\beta$ value of the corresponding class but also related to the $\\beta$ values of other classes. \n",
        "\n",
        "Now we give an example to illustrate how to use multinomial logistic regression. \n",
        "> Entering high school students make program choices among general program, vocational program and academic program. Their choice might be modeled using their writing score and their social economic status.\n",
        "\n",
        "We first read in the data.\n"
      ],
      "metadata": {}
    },
    {
      "cell_type": "code",
      "source": [
        "require(foreign)\n",
        "require(nnet)\n",
        "require(ggplot2)\n",
        "require(reshape2)\n",
        "ml <- read.dta(\"https://stats.idre.ucla.edu/stat/data/hsbdemo.dta\")\n",
        "head(ml,20)"
      ],
      "outputs": [
        {
          "output_type": "display_data",
          "data": {
            "text/html": [
              "<table>\n",
              "<thead><tr><th scope=col>id</th><th scope=col>female</th><th scope=col>ses</th><th scope=col>schtyp</th><th scope=col>prog</th><th scope=col>read</th><th scope=col>write</th><th scope=col>math</th><th scope=col>science</th><th scope=col>socst</th><th scope=col>honors</th><th scope=col>awards</th><th scope=col>cid</th></tr></thead>\n",
              "<tbody>\n",
              "\t<tr><td> 45         </td><td>female      </td><td>low         </td><td>public      </td><td>vocation    </td><td>34          </td><td>35          </td><td>41          </td><td>29          </td><td>26          </td><td>not enrolled</td><td>0           </td><td>1           </td></tr>\n",
              "\t<tr><td>108         </td><td>male        </td><td>middle      </td><td>public      </td><td>general     </td><td>34          </td><td>33          </td><td>41          </td><td>36          </td><td>36          </td><td>not enrolled</td><td>0           </td><td>1           </td></tr>\n",
              "\t<tr><td> 15         </td><td>male        </td><td>high        </td><td>public      </td><td>vocation    </td><td>39          </td><td>39          </td><td>44          </td><td>26          </td><td>42          </td><td>not enrolled</td><td>0           </td><td>1           </td></tr>\n",
              "\t<tr><td> 67         </td><td>male        </td><td>low         </td><td>public      </td><td>vocation    </td><td>37          </td><td>37          </td><td>42          </td><td>33          </td><td>32          </td><td>not enrolled</td><td>0           </td><td>1           </td></tr>\n",
              "\t<tr><td>153         </td><td>male        </td><td>middle      </td><td>public      </td><td>vocation    </td><td>39          </td><td>31          </td><td>40          </td><td>39          </td><td>51          </td><td>not enrolled</td><td>0           </td><td>1           </td></tr>\n",
              "\t<tr><td> 51         </td><td>female      </td><td>high        </td><td>public      </td><td>general     </td><td>42          </td><td>36          </td><td>42          </td><td>31          </td><td>39          </td><td>not enrolled</td><td>0           </td><td>1           </td></tr>\n",
              "\t<tr><td>164         </td><td>male        </td><td>middle      </td><td>public      </td><td>vocation    </td><td>31          </td><td>36          </td><td>46          </td><td>39          </td><td>46          </td><td>not enrolled</td><td>0           </td><td>1           </td></tr>\n",
              "\t<tr><td>133         </td><td>male        </td><td>middle      </td><td>public      </td><td>vocation    </td><td>50          </td><td>31          </td><td>40          </td><td>34          </td><td>31          </td><td>not enrolled</td><td>0           </td><td>1           </td></tr>\n",
              "\t<tr><td>  2         </td><td>female      </td><td>middle      </td><td>public      </td><td>vocation    </td><td>39          </td><td>41          </td><td>33          </td><td>42          </td><td>41          </td><td>not enrolled</td><td>0           </td><td>1           </td></tr>\n",
              "\t<tr><td> 53         </td><td>male        </td><td>middle      </td><td>public      </td><td>vocation    </td><td>34          </td><td>37          </td><td>46          </td><td>39          </td><td>31          </td><td>not enrolled</td><td>0           </td><td>1           </td></tr>\n",
              "\t<tr><td>  1         </td><td>female      </td><td>low         </td><td>public      </td><td>vocation    </td><td>34          </td><td>44          </td><td>40          </td><td>39          </td><td>41          </td><td>not enrolled</td><td>0           </td><td>1           </td></tr>\n",
              "\t<tr><td>128         </td><td>male        </td><td>high        </td><td>public      </td><td>academic    </td><td>39          </td><td>33          </td><td>38          </td><td>47          </td><td>41          </td><td>not enrolled</td><td>0           </td><td>2           </td></tr>\n",
              "\t<tr><td> 16         </td><td>male        </td><td>low         </td><td>public      </td><td>vocation    </td><td>47          </td><td>31          </td><td>44          </td><td>36          </td><td>36          </td><td>not enrolled</td><td>0           </td><td>2           </td></tr>\n",
              "\t<tr><td>106         </td><td>female      </td><td>middle      </td><td>public      </td><td>vocation    </td><td>36          </td><td>44          </td><td>37          </td><td>42          </td><td>41          </td><td>not enrolled</td><td>0           </td><td>2           </td></tr>\n",
              "\t<tr><td> 89         </td><td>female      </td><td>low         </td><td>public      </td><td>vocation    </td><td>35          </td><td>35          </td><td>40          </td><td>51          </td><td>33          </td><td>not enrolled</td><td>0           </td><td>2           </td></tr>\n",
              "\t<tr><td>134         </td><td>male        </td><td>low         </td><td>public      </td><td>general     </td><td>44          </td><td>44          </td><td>39          </td><td>34          </td><td>46          </td><td>not enrolled</td><td>0           </td><td>2           </td></tr>\n",
              "\t<tr><td> 19         </td><td>female      </td><td>low         </td><td>public      </td><td>general     </td><td>28          </td><td>46          </td><td>43          </td><td>44          </td><td>51          </td><td>not enrolled</td><td>0           </td><td>2           </td></tr>\n",
              "\t<tr><td>145         </td><td>female      </td><td>middle      </td><td>public      </td><td>vocation    </td><td>42          </td><td>46          </td><td>38          </td><td>36          </td><td>46          </td><td>not enrolled</td><td>0           </td><td>2           </td></tr>\n",
              "\t<tr><td> 11         </td><td>male        </td><td>middle      </td><td>public      </td><td>academic    </td><td>34          </td><td>46          </td><td>45          </td><td>39          </td><td>36          </td><td>not enrolled</td><td>0           </td><td>2           </td></tr>\n",
              "\t<tr><td>117         </td><td>male        </td><td>high        </td><td>public      </td><td>vocation    </td><td>34          </td><td>49          </td><td>39          </td><td>42          </td><td>56          </td><td>not enrolled</td><td>0           </td><td>2           </td></tr>\n",
              "</tbody>\n",
              "</table>\n"
            ],
            "text/markdown": [
              "\n",
              "id | female | ses | schtyp | prog | read | write | math | science | socst | honors | awards | cid | \n",
              "|---|---|---|---|---|---|---|---|---|---|---|---|---|---|---|---|---|---|---|---|\n",
              "|  45          | female       | low          | public       | vocation     | 34           | 35           | 41           | 29           | 26           | not enrolled | 0            | 1            | \n",
              "| 108          | male         | middle       | public       | general      | 34           | 33           | 41           | 36           | 36           | not enrolled | 0            | 1            | \n",
              "|  15          | male         | high         | public       | vocation     | 39           | 39           | 44           | 26           | 42           | not enrolled | 0            | 1            | \n",
              "|  67          | male         | low          | public       | vocation     | 37           | 37           | 42           | 33           | 32           | not enrolled | 0            | 1            | \n",
              "| 153          | male         | middle       | public       | vocation     | 39           | 31           | 40           | 39           | 51           | not enrolled | 0            | 1            | \n",
              "|  51          | female       | high         | public       | general      | 42           | 36           | 42           | 31           | 39           | not enrolled | 0            | 1            | \n",
              "| 164          | male         | middle       | public       | vocation     | 31           | 36           | 46           | 39           | 46           | not enrolled | 0            | 1            | \n",
              "| 133          | male         | middle       | public       | vocation     | 50           | 31           | 40           | 34           | 31           | not enrolled | 0            | 1            | \n",
              "|   2          | female       | middle       | public       | vocation     | 39           | 41           | 33           | 42           | 41           | not enrolled | 0            | 1            | \n",
              "|  53          | male         | middle       | public       | vocation     | 34           | 37           | 46           | 39           | 31           | not enrolled | 0            | 1            | \n",
              "|   1          | female       | low          | public       | vocation     | 34           | 44           | 40           | 39           | 41           | not enrolled | 0            | 1            | \n",
              "| 128          | male         | high         | public       | academic     | 39           | 33           | 38           | 47           | 41           | not enrolled | 0            | 2            | \n",
              "|  16          | male         | low          | public       | vocation     | 47           | 31           | 44           | 36           | 36           | not enrolled | 0            | 2            | \n",
              "| 106          | female       | middle       | public       | vocation     | 36           | 44           | 37           | 42           | 41           | not enrolled | 0            | 2            | \n",
              "|  89          | female       | low          | public       | vocation     | 35           | 35           | 40           | 51           | 33           | not enrolled | 0            | 2            | \n",
              "| 134          | male         | low          | public       | general      | 44           | 44           | 39           | 34           | 46           | not enrolled | 0            | 2            | \n",
              "|  19          | female       | low          | public       | general      | 28           | 46           | 43           | 44           | 51           | not enrolled | 0            | 2            | \n",
              "| 145          | female       | middle       | public       | vocation     | 42           | 46           | 38           | 36           | 46           | not enrolled | 0            | 2            | \n",
              "|  11          | male         | middle       | public       | academic     | 34           | 46           | 45           | 39           | 36           | not enrolled | 0            | 2            | \n",
              "| 117          | male         | high         | public       | vocation     | 34           | 49           | 39           | 42           | 56           | not enrolled | 0            | 2            | \n",
              "\n\n"
            ],
            "text/latex": [
              "\\begin{tabular}{r|lllllllllllll}\n",
              " id & female & ses & schtyp & prog & read & write & math & science & socst & honors & awards & cid\\\\\n",
              "\\hline\n",
              "\t  45          & female       & low          & public       & vocation     & 34           & 35           & 41           & 29           & 26           & not enrolled & 0            & 1           \\\\\n",
              "\t 108          & male         & middle       & public       & general      & 34           & 33           & 41           & 36           & 36           & not enrolled & 0            & 1           \\\\\n",
              "\t  15          & male         & high         & public       & vocation     & 39           & 39           & 44           & 26           & 42           & not enrolled & 0            & 1           \\\\\n",
              "\t  67          & male         & low          & public       & vocation     & 37           & 37           & 42           & 33           & 32           & not enrolled & 0            & 1           \\\\\n",
              "\t 153          & male         & middle       & public       & vocation     & 39           & 31           & 40           & 39           & 51           & not enrolled & 0            & 1           \\\\\n",
              "\t  51          & female       & high         & public       & general      & 42           & 36           & 42           & 31           & 39           & not enrolled & 0            & 1           \\\\\n",
              "\t 164          & male         & middle       & public       & vocation     & 31           & 36           & 46           & 39           & 46           & not enrolled & 0            & 1           \\\\\n",
              "\t 133          & male         & middle       & public       & vocation     & 50           & 31           & 40           & 34           & 31           & not enrolled & 0            & 1           \\\\\n",
              "\t   2          & female       & middle       & public       & vocation     & 39           & 41           & 33           & 42           & 41           & not enrolled & 0            & 1           \\\\\n",
              "\t  53          & male         & middle       & public       & vocation     & 34           & 37           & 46           & 39           & 31           & not enrolled & 0            & 1           \\\\\n",
              "\t   1          & female       & low          & public       & vocation     & 34           & 44           & 40           & 39           & 41           & not enrolled & 0            & 1           \\\\\n",
              "\t 128          & male         & high         & public       & academic     & 39           & 33           & 38           & 47           & 41           & not enrolled & 0            & 2           \\\\\n",
              "\t  16          & male         & low          & public       & vocation     & 47           & 31           & 44           & 36           & 36           & not enrolled & 0            & 2           \\\\\n",
              "\t 106          & female       & middle       & public       & vocation     & 36           & 44           & 37           & 42           & 41           & not enrolled & 0            & 2           \\\\\n",
              "\t  89          & female       & low          & public       & vocation     & 35           & 35           & 40           & 51           & 33           & not enrolled & 0            & 2           \\\\\n",
              "\t 134          & male         & low          & public       & general      & 44           & 44           & 39           & 34           & 46           & not enrolled & 0            & 2           \\\\\n",
              "\t  19          & female       & low          & public       & general      & 28           & 46           & 43           & 44           & 51           & not enrolled & 0            & 2           \\\\\n",
              "\t 145          & female       & middle       & public       & vocation     & 42           & 46           & 38           & 36           & 46           & not enrolled & 0            & 2           \\\\\n",
              "\t  11          & male         & middle       & public       & academic     & 34           & 46           & 45           & 39           & 36           & not enrolled & 0            & 2           \\\\\n",
              "\t 117          & male         & high         & public       & vocation     & 34           & 49           & 39           & 42           & 56           & not enrolled & 0            & 2           \\\\\n",
              "\\end{tabular}\n"
            ],
            "text/plain": [
              "   id  female ses    schtyp prog     read write math science socst honors      \n",
              "1   45 female low    public vocation 34   35    41   29      26    not enrolled\n",
              "2  108 male   middle public general  34   33    41   36      36    not enrolled\n",
              "3   15 male   high   public vocation 39   39    44   26      42    not enrolled\n",
              "4   67 male   low    public vocation 37   37    42   33      32    not enrolled\n",
              "5  153 male   middle public vocation 39   31    40   39      51    not enrolled\n",
              "6   51 female high   public general  42   36    42   31      39    not enrolled\n",
              "7  164 male   middle public vocation 31   36    46   39      46    not enrolled\n",
              "8  133 male   middle public vocation 50   31    40   34      31    not enrolled\n",
              "9    2 female middle public vocation 39   41    33   42      41    not enrolled\n",
              "10  53 male   middle public vocation 34   37    46   39      31    not enrolled\n",
              "11   1 female low    public vocation 34   44    40   39      41    not enrolled\n",
              "12 128 male   high   public academic 39   33    38   47      41    not enrolled\n",
              "13  16 male   low    public vocation 47   31    44   36      36    not enrolled\n",
              "14 106 female middle public vocation 36   44    37   42      41    not enrolled\n",
              "15  89 female low    public vocation 35   35    40   51      33    not enrolled\n",
              "16 134 male   low    public general  44   44    39   34      46    not enrolled\n",
              "17  19 female low    public general  28   46    43   44      51    not enrolled\n",
              "18 145 female middle public vocation 42   46    38   36      46    not enrolled\n",
              "19  11 male   middle public academic 34   46    45   39      36    not enrolled\n",
              "20 117 male   high   public vocation 34   49    39   42      56    not enrolled\n",
              "   awards cid\n",
              "1  0      1  \n",
              "2  0      1  \n",
              "3  0      1  \n",
              "4  0      1  \n",
              "5  0      1  \n",
              "6  0      1  \n",
              "7  0      1  \n",
              "8  0      1  \n",
              "9  0      1  \n",
              "10 0      1  \n",
              "11 0      1  \n",
              "12 0      2  \n",
              "13 0      2  \n",
              "14 0      2  \n",
              "15 0      2  \n",
              "16 0      2  \n",
              "17 0      2  \n",
              "18 0      2  \n",
              "19 0      2  \n",
              "20 0      2  "
            ]
          },
          "metadata": {}
        }
      ],
      "execution_count": 66,
      "metadata": {
        "collapsed": false,
        "outputHidden": false,
        "inputHidden": false
      }
    },
    {
      "cell_type": "markdown",
      "source": [
        "The data set contains variables on 200 students. The outcome variable is prog, program type. The predictor variables are social economic status, ses, a three-level categorical variable and writing score, write, a continuous variable. \n",
        "\nWe first need to define a baseline in order to compute the log-odds. From binomial logistic regression model, we actually defined $\\mbox{G=1}$ to be the baseline. The absolute probability of $\\mbox{G=2}$ is calculated based on the \"relative probability\" over the probability of $\\mbox{G=1}$ (Formulas $[1] [2] [3]$). Here we define \"academic\" to be the baseline. "
      ],
      "metadata": {}
    },
    {
      "cell_type": "code",
      "source": [
        "ml$prog2 <- relevel(ml$prog, ref = \"academic\")\n",
        "print(ml$prog2)"
      ],
      "outputs": [
        {
          "output_type": "stream",
          "name": "stdout",
          "text": [
            "  [1] vocation general  vocation vocation vocation general  vocation vocation\n",
            "  [9] vocation vocation vocation academic vocation vocation vocation general \n",
            " [17] general  vocation academic vocation general  vocation vocation vocation\n",
            " [25] academic academic general  general  academic academic general  vocation\n",
            " [33] academic academic vocation vocation vocation academic general  academic\n",
            " [41] general  academic academic vocation academic vocation vocation general \n",
            " [49] vocation academic academic vocation general  academic academic general \n",
            " [57] academic general  vocation general  vocation academic academic vocation\n",
            " [65] vocation vocation general  academic academic general  academic academic\n",
            " [73] academic general  vocation general  vocation general  general  academic\n",
            " [81] vocation academic academic general  vocation academic general  general \n",
            " [89] general  vocation vocation general  vocation academic vocation general \n",
            " [97] academic vocation vocation general  academic vocation vocation vocation\n",
            "[105] general  academic general  general  academic academic academic academic\n",
            "[113] academic academic academic vocation academic academic academic academic\n",
            "[121] vocation academic academic academic academic academic academic academic\n",
            "[129] academic academic academic academic general  academic academic general \n",
            "[137] academic academic academic academic academic academic general  general \n",
            "[145] academic general  general  general  academic academic academic academic\n",
            "[153] academic vocation general  academic academic academic academic academic\n",
            "[161] general  general  academic academic academic vocation general  academic\n",
            "[169] academic general  general  academic academic vocation academic academic\n",
            "[177] academic academic academic academic academic academic academic general \n",
            "[185] academic academic academic academic academic academic academic academic\n",
            "[193] academic academic academic academic vocation academic academic academic\n",
            "Levels: academic general vocation\n"
          ]
        }
      ],
      "execution_count": 67,
      "metadata": {
        "collapsed": false,
        "outputHidden": false,
        "inputHidden": false
      }
    },
    {
      "cell_type": "markdown",
      "source": [
        "Since ses is actually a categorical variable, we need to convert it into dummy variables as the input to the multinomial logistic regression model. Fortunately, nnet will help us to do it automatically. We also manually create the dummy variables to understand the transformation."
      ],
      "metadata": {}
    },
    {
      "cell_type": "code",
      "source": [
        "dummies = model.matrix(~ml$ses)\n",
        "head(ml$ses)\n",
        "head(dummies)"
      ],
      "outputs": [
        {
          "output_type": "display_data",
          "data": {
            "text/html": [
              "<ol class=list-inline>\n",
              "\t<li>low</li>\n",
              "\t<li>middle</li>\n",
              "\t<li>high</li>\n",
              "\t<li>low</li>\n",
              "\t<li>middle</li>\n",
              "\t<li>high</li>\n",
              "</ol>\n"
            ],
            "text/markdown": [
              "1. low\n",
              "2. middle\n",
              "3. high\n",
              "4. low\n",
              "5. middle\n",
              "6. high\n",
              "\n\n"
            ],
            "text/latex": [
              "\\begin{enumerate*}\n",
              "\\item low\n",
              "\\item middle\n",
              "\\item high\n",
              "\\item low\n",
              "\\item middle\n",
              "\\item high\n",
              "\\end{enumerate*}\n"
            ],
            "text/plain": [
              "[1] low    middle high   low    middle high  \n",
              "Levels: low middle high"
            ]
          },
          "metadata": {}
        },
        {
          "output_type": "display_data",
          "data": {
            "text/html": [
              "<table>\n",
              "<thead><tr><th></th><th scope=col>(Intercept)</th><th scope=col>ml$sesmiddle</th><th scope=col>ml$seshigh</th></tr></thead>\n",
              "<tbody>\n",
              "\t<tr><th scope=row>1</th><td>1</td><td>0</td><td>0</td></tr>\n",
              "\t<tr><th scope=row>2</th><td>1</td><td>1</td><td>0</td></tr>\n",
              "\t<tr><th scope=row>3</th><td>1</td><td>0</td><td>1</td></tr>\n",
              "\t<tr><th scope=row>4</th><td>1</td><td>0</td><td>0</td></tr>\n",
              "\t<tr><th scope=row>5</th><td>1</td><td>1</td><td>0</td></tr>\n",
              "\t<tr><th scope=row>6</th><td>1</td><td>0</td><td>1</td></tr>\n",
              "</tbody>\n",
              "</table>\n"
            ],
            "text/markdown": [
              "\n",
              "| <!--/--> | (Intercept) | ml$sesmiddle | ml$seshigh | \n",
              "|---|---|---|---|---|---|\n",
              "| 1 | 1 | 0 | 0 | \n",
              "| 2 | 1 | 1 | 0 | \n",
              "| 3 | 1 | 0 | 1 | \n",
              "| 4 | 1 | 0 | 0 | \n",
              "| 5 | 1 | 1 | 0 | \n",
              "| 6 | 1 | 0 | 1 | \n",
              "\n\n"
            ],
            "text/latex": [
              "\\begin{tabular}{r|lll}\n",
              "  & (Intercept) & ml\\$sesmiddle & ml\\$seshigh\\\\\n",
              "\\hline\n",
              "\t1 & 1 & 0 & 0\\\\\n",
              "\t2 & 1 & 1 & 0\\\\\n",
              "\t3 & 1 & 0 & 1\\\\\n",
              "\t4 & 1 & 0 & 0\\\\\n",
              "\t5 & 1 & 1 & 0\\\\\n",
              "\t6 & 1 & 0 & 1\\\\\n",
              "\\end{tabular}\n"
            ],
            "text/plain": [
              "  (Intercept) ml$sesmiddle ml$seshigh\n",
              "1 1           0            0         \n",
              "2 1           1            0         \n",
              "3 1           0            1         \n",
              "4 1           0            0         \n",
              "5 1           1            0         \n",
              "6 1           0            1         "
            ]
          },
          "metadata": {}
        }
      ],
      "execution_count": 68,
      "metadata": {
        "collapsed": false,
        "outputHidden": false,
        "inputHidden": false
      }
    },
    {
      "cell_type": "markdown",
      "source": [
        "So we can see that actually \"low\" has been tranformed to (0,0), \"middle\" has been transformed to (1,0) and \"high\" has been transformed to (0,1). We will see later that Intercept=1 is for computational convenience. Now we build the multinomial model.  "
      ],
      "metadata": {}
    },
    {
      "cell_type": "code",
      "source": [
        "test <- multinom(prog2 ~ ses + write, data = ml)\n",
        "summary(test)"
      ],
      "outputs": [
        {
          "output_type": "stream",
          "name": "stdout",
          "text": [
            "# weights:  15 (8 variable)\n",
            "initial  value 219.722458 \n",
            "iter  10 value 179.982880\n",
            "final  value 179.981726 \n",
            "converged\n"
          ]
        },
        {
          "output_type": "display_data",
          "data": {
            "text/plain": [
              "Call:\n",
              "multinom(formula = prog2 ~ ses + write, data = ml)\n",
              "\n",
              "Coefficients:\n",
              "         (Intercept)  sesmiddle    seshigh      write\n",
              "general     2.852198 -0.5332810 -1.1628226 -0.0579287\n",
              "vocation    5.218260  0.2913859 -0.9826649 -0.1136037\n",
              "\n",
              "Std. Errors:\n",
              "         (Intercept) sesmiddle   seshigh      write\n",
              "general     1.166441 0.4437323 0.5142196 0.02141097\n",
              "vocation    1.163552 0.4763739 0.5955665 0.02221996\n",
              "\n",
              "Residual Deviance: 359.9635 \n",
              "AIC: 375.9635 "
            ]
          },
          "metadata": {}
        }
      ],
      "execution_count": 69,
      "metadata": {
        "collapsed": false,
        "outputHidden": false,
        "inputHidden": false
      }
    },
    {
      "cell_type": "markdown",
      "source": [
        "- We first see that some output is generated by running the model, even though we are assigning the model to a new R object. This model-running output includes some iteration history and includes the final negative log-likelihood 179.981726. This value multiplied by two is then seen in the model summary as the Residual Deviance and it can be used in comparisons of nested models.\n",
        "- The model summary output has a block of coefficients and a block of standard errors. Each of these blocks has one row of values corresponding to a model equation. Focusing on the block of coefficients, we can look at the first row comparing prog = \"general\" to our baseline prog = \"academic\" and the second row comparing prog = \"vocation\" to our baseline prog = \"academic\". If we consider our coefficients from the first row to be $\\beta_1$ and our coefficients from the second row to be $\\beta_2$, we can write our model equations:\n",
        "$$ln\\left(\\frac{Pr(prog=general)}{Pr(prog=academic)}\\right) = \\beta_{10} + \\beta_{11}(ses=2) + \\beta_{12}(ses=3) + \\beta_{13}write [7]$$\n",
        "$$ln\\left(\\frac{Pr(prog=vocation)}{Pr(prog=academic)}\\right) = \\beta_{20} + \\beta_{21}(ses=2) + \\beta_{22}(ses=3) + \\beta_{23}write [8]$$\n",
        "- A one-unit increase in the variable write is associated with the decrease in the log odds of being in general program vs. academic program in the amount of .058 $\\beta_{13}$.\n",
        "- A one-unit increase in the variable write is associated with the decrease in the log odds of being in vocation program vs. academic program. in the amount of .1136 $\\beta_{23}$.\n",
        "- The log odds of being in general program vs. in academic program will decrease by 1.163 if moving from ses=\"low\" to ses=\"high\"$\\beta_{12}$.\n",
        "- The log odds of being in general program vs. in academic program will decrease by 0.533 if moving from ses=\"low\"to ses=\"middle\"$\\beta_{11}$, although this coefficient is not significant.\n",
        "- The log odds of being in vocation program vs. in academic program will decrease by 0.983 if moving from ses=\"low\" to ses=\"high\"$\\beta_{22}$.\n",
        "- The log odds of being in vocation program vs. in academic program will increase by 0.291 if moving from ses=\"low\" to ses=\"middle\"$\\beta_{21}$, although this coefficient is not signficant.\n",
        "\nWe use function \"fitted\" to apply the learnt multinomial logistic regression model to the original data set. "
      ],
      "metadata": {}
    },
    {
      "cell_type": "code",
      "source": [
        "head(pp <- fitted(test))"
      ],
      "outputs": [
        {
          "output_type": "display_data",
          "data": {
            "text/html": [
              "<table>\n",
              "<thead><tr><th></th><th scope=col>academic</th><th scope=col>general</th><th scope=col>vocation</th></tr></thead>\n",
              "<tbody>\n",
              "\t<tr><th scope=row>1</th><td>0.1482764</td><td>0.3382454</td><td>0.5134781</td></tr>\n",
              "\t<tr><th scope=row>2</th><td>0.1202017</td><td>0.1806283</td><td>0.6991700</td></tr>\n",
              "\t<tr><th scope=row>3</th><td>0.4186747</td><td>0.2368082</td><td>0.3445171</td></tr>\n",
              "\t<tr><th scope=row>4</th><td>0.1726885</td><td>0.3508384</td><td>0.4764731</td></tr>\n",
              "\t<tr><th scope=row>5</th><td>0.1001231</td><td>0.1689374</td><td>0.7309395</td></tr>\n",
              "\t<tr><th scope=row>6</th><td>0.3533566</td><td>0.2377976</td><td>0.4088458</td></tr>\n",
              "</tbody>\n",
              "</table>\n"
            ],
            "text/markdown": [
              "\n",
              "| <!--/--> | academic | general | vocation | \n",
              "|---|---|---|---|---|---|\n",
              "| 1 | 0.1482764 | 0.3382454 | 0.5134781 | \n",
              "| 2 | 0.1202017 | 0.1806283 | 0.6991700 | \n",
              "| 3 | 0.4186747 | 0.2368082 | 0.3445171 | \n",
              "| 4 | 0.1726885 | 0.3508384 | 0.4764731 | \n",
              "| 5 | 0.1001231 | 0.1689374 | 0.7309395 | \n",
              "| 6 | 0.3533566 | 0.2377976 | 0.4088458 | \n",
              "\n\n"
            ],
            "text/latex": [
              "\\begin{tabular}{r|lll}\n",
              "  & academic & general & vocation\\\\\n",
              "\\hline\n",
              "\t1 & 0.1482764 & 0.3382454 & 0.5134781\\\\\n",
              "\t2 & 0.1202017 & 0.1806283 & 0.6991700\\\\\n",
              "\t3 & 0.4186747 & 0.2368082 & 0.3445171\\\\\n",
              "\t4 & 0.1726885 & 0.3508384 & 0.4764731\\\\\n",
              "\t5 & 0.1001231 & 0.1689374 & 0.7309395\\\\\n",
              "\t6 & 0.3533566 & 0.2377976 & 0.4088458\\\\\n",
              "\\end{tabular}\n"
            ],
            "text/plain": [
              "  academic  general   vocation \n",
              "1 0.1482764 0.3382454 0.5134781\n",
              "2 0.1202017 0.1806283 0.6991700\n",
              "3 0.4186747 0.2368082 0.3445171\n",
              "4 0.1726885 0.3508384 0.4764731\n",
              "5 0.1001231 0.1689374 0.7309395\n",
              "6 0.3533566 0.2377976 0.4088458"
            ]
          },
          "metadata": {}
        }
      ],
      "execution_count": 70,
      "metadata": {
        "collapsed": false,
        "outputHidden": false,
        "inputHidden": false
      }
    },
    {
      "cell_type": "markdown",
      "source": [
        "Given the formula $[5]$ and the learnt parameters (summary(test)), we can compute the predictions manually and double check the results with the output from the function \"fitted\". "
      ],
      "metadata": {}
    },
    {
      "cell_type": "code",
      "source": [
        "#Combine ses dummy variables and write\n",
        "combined <- cbind.data.frame(dummies,ml$write)\n",
        "combinedm <- as.matrix(combined)\n",
        "#Get the parameters from the learnt model\n",
        "coef <- t(coef(test))\n",
        "coefm <- as.matrix(coef)\n",
        "#view combined varaibles and parameters\n",
        "head(combinedm)\n",
        "print(coefm)"
      ],
      "outputs": [
        {
          "output_type": "display_data",
          "data": {
            "text/html": [
              "<table>\n",
              "<thead><tr><th></th><th scope=col>(Intercept)</th><th scope=col>ml$sesmiddle</th><th scope=col>ml$seshigh</th><th scope=col>ml$write</th></tr></thead>\n",
              "<tbody>\n",
              "\t<tr><th scope=row>1</th><td>1 </td><td>0 </td><td>0 </td><td>35</td></tr>\n",
              "\t<tr><th scope=row>2</th><td>1 </td><td>1 </td><td>0 </td><td>33</td></tr>\n",
              "\t<tr><th scope=row>3</th><td>1 </td><td>0 </td><td>1 </td><td>39</td></tr>\n",
              "\t<tr><th scope=row>4</th><td>1 </td><td>0 </td><td>0 </td><td>37</td></tr>\n",
              "\t<tr><th scope=row>5</th><td>1 </td><td>1 </td><td>0 </td><td>31</td></tr>\n",
              "\t<tr><th scope=row>6</th><td>1 </td><td>0 </td><td>1 </td><td>36</td></tr>\n",
              "</tbody>\n",
              "</table>\n"
            ],
            "text/markdown": [
              "\n",
              "| <!--/--> | (Intercept) | ml$sesmiddle | ml$seshigh | ml$write | \n",
              "|---|---|---|---|---|---|\n",
              "| 1 | 1  | 0  | 0  | 35 | \n",
              "| 2 | 1  | 1  | 0  | 33 | \n",
              "| 3 | 1  | 0  | 1  | 39 | \n",
              "| 4 | 1  | 0  | 0  | 37 | \n",
              "| 5 | 1  | 1  | 0  | 31 | \n",
              "| 6 | 1  | 0  | 1  | 36 | \n",
              "\n\n"
            ],
            "text/latex": [
              "\\begin{tabular}{r|llll}\n",
              "  & (Intercept) & ml\\$sesmiddle & ml\\$seshigh & ml\\$write\\\\\n",
              "\\hline\n",
              "\t1 & 1  & 0  & 0  & 35\\\\\n",
              "\t2 & 1  & 1  & 0  & 33\\\\\n",
              "\t3 & 1  & 0  & 1  & 39\\\\\n",
              "\t4 & 1  & 0  & 0  & 37\\\\\n",
              "\t5 & 1  & 1  & 0  & 31\\\\\n",
              "\t6 & 1  & 0  & 1  & 36\\\\\n",
              "\\end{tabular}\n"
            ],
            "text/plain": [
              "  (Intercept) ml$sesmiddle ml$seshigh ml$write\n",
              "1 1           0            0          35      \n",
              "2 1           1            0          33      \n",
              "3 1           0            1          39      \n",
              "4 1           0            0          37      \n",
              "5 1           1            0          31      \n",
              "6 1           0            1          36      "
            ]
          },
          "metadata": {}
        },
        {
          "output_type": "stream",
          "name": "stdout",
          "text": [
            "               general   vocation\n",
            "(Intercept)  2.8521980  5.2182597\n",
            "sesmiddle   -0.5332810  0.2913859\n",
            "seshigh     -1.1628226 -0.9826649\n",
            "write       -0.0579287 -0.1136037\n"
          ]
        }
      ],
      "execution_count": 71,
      "metadata": {
        "collapsed": false,
        "outputHidden": false,
        "inputHidden": false
      }
    },
    {
      "cell_type": "markdown",
      "source": [
        "We then times(matrix multiply) \"combinedm\" with \"coefm\" to compute the log-odds based on formulas $[7] [8]$. \n",
        "After getting log-odds, we take $exp$ and obtain odds. "
      ],
      "metadata": {}
    },
    {
      "cell_type": "code",
      "source": [
        "relative <- exp(combinedm %*% coefm)\n",
        "head(relative)"
      ],
      "outputs": [
        {
          "output_type": "display_data",
          "data": {
            "text/html": [
              "<table>\n",
              "<thead><tr><th></th><th scope=col>general</th><th scope=col>vocation</th></tr></thead>\n",
              "<tbody>\n",
              "\t<tr><th scope=row>1</th><td>2.2811814</td><td>3.4629786</td></tr>\n",
              "\t<tr><th scope=row>2</th><td>1.5027096</td><td>5.8166379</td></tr>\n",
              "\t<tr><th scope=row>3</th><td>0.5656137</td><td>0.8228752</td></tr>\n",
              "\t<tr><th scope=row>4</th><td>2.0316252</td><td>2.7591471</td></tr>\n",
              "\t<tr><th scope=row>5</th><td>1.6872960</td><td>7.3004054</td></tr>\n",
              "\t<tr><th scope=row>6</th><td>0.6729678</td><td>1.1570347</td></tr>\n",
              "</tbody>\n",
              "</table>\n"
            ],
            "text/markdown": [
              "\n",
              "| <!--/--> | general | vocation | \n",
              "|---|---|---|---|---|---|\n",
              "| 1 | 2.2811814 | 3.4629786 | \n",
              "| 2 | 1.5027096 | 5.8166379 | \n",
              "| 3 | 0.5656137 | 0.8228752 | \n",
              "| 4 | 2.0316252 | 2.7591471 | \n",
              "| 5 | 1.6872960 | 7.3004054 | \n",
              "| 6 | 0.6729678 | 1.1570347 | \n",
              "\n\n"
            ],
            "text/latex": [
              "\\begin{tabular}{r|ll}\n",
              "  & general & vocation\\\\\n",
              "\\hline\n",
              "\t1 & 2.2811814 & 3.4629786\\\\\n",
              "\t2 & 1.5027096 & 5.8166379\\\\\n",
              "\t3 & 0.5656137 & 0.8228752\\\\\n",
              "\t4 & 2.0316252 & 2.7591471\\\\\n",
              "\t5 & 1.6872960 & 7.3004054\\\\\n",
              "\t6 & 0.6729678 & 1.1570347\\\\\n",
              "\\end{tabular}\n"
            ],
            "text/plain": [
              "  general   vocation \n",
              "1 2.2811814 3.4629786\n",
              "2 1.5027096 5.8166379\n",
              "3 0.5656137 0.8228752\n",
              "4 2.0316252 2.7591471\n",
              "5 1.6872960 7.3004054\n",
              "6 0.6729678 1.1570347"
            ]
          },
          "metadata": {}
        }
      ],
      "execution_count": 72,
      "metadata": {
        "collapsed": false,
        "outputHidden": false,
        "inputHidden": false
      }
    },
    {
      "cell_type": "markdown",
      "source": [
        "Now we get the odds(\"relative probability\"), which are namely $\\frac{Pr(prog=general)}{Pr(prog=academic)}$ and $\\frac{Pr(prog=vocation)}{Pr(prog=academic)}$ respectively. For example, for instance 1, the odds is 2.281, which means that $\\frac{Pr(prog=general)}{Pr(prog=academic)}=2.281$. So with all the \"relative probabilities\", we can compute the absolute probabilities. "
      ],
      "metadata": {}
    },
    {
      "cell_type": "code",
      "source": [
        "#compute the absolute probability of academic\n",
        "academic <- 1/(relative[,1]+relative[,2]+1)\n",
        "#compute the absolute probability of general\n",
        "general <- academic*as.data.frame(relative)$general\n",
        "#compute the absolute probability of vocation\n",
        "vocation <- academic*as.data.frame(relative)$vocation\n",
        "#our manually calculated result\n",
        "out <- cbind.data.frame(academic,general,vocation)\n",
        "print(\"Our manually calculated result:\")\n",
        "head(out)\n",
        "#result calculated from the internal function of the package\n",
        "print(\"Result calculated from the package:\")\n",
        "head(pp)"
      ],
      "outputs": [
        {
          "output_type": "stream",
          "name": "stdout",
          "text": [
            "[1] \"Our manually calculated result:\"\n"
          ]
        },
        {
          "output_type": "display_data",
          "data": {
            "text/html": [
              "<table>\n",
              "<thead><tr><th scope=col>academic</th><th scope=col>general</th><th scope=col>vocation</th></tr></thead>\n",
              "<tbody>\n",
              "\t<tr><td>0.1482764</td><td>0.3382454</td><td>0.5134781</td></tr>\n",
              "\t<tr><td>0.1202017</td><td>0.1806283</td><td>0.6991700</td></tr>\n",
              "\t<tr><td>0.4186747</td><td>0.2368082</td><td>0.3445171</td></tr>\n",
              "\t<tr><td>0.1726885</td><td>0.3508384</td><td>0.4764731</td></tr>\n",
              "\t<tr><td>0.1001231</td><td>0.1689374</td><td>0.7309395</td></tr>\n",
              "\t<tr><td>0.3533566</td><td>0.2377976</td><td>0.4088458</td></tr>\n",
              "</tbody>\n",
              "</table>\n"
            ],
            "text/markdown": [
              "\n",
              "academic | general | vocation | \n",
              "|---|---|---|---|---|---|\n",
              "| 0.1482764 | 0.3382454 | 0.5134781 | \n",
              "| 0.1202017 | 0.1806283 | 0.6991700 | \n",
              "| 0.4186747 | 0.2368082 | 0.3445171 | \n",
              "| 0.1726885 | 0.3508384 | 0.4764731 | \n",
              "| 0.1001231 | 0.1689374 | 0.7309395 | \n",
              "| 0.3533566 | 0.2377976 | 0.4088458 | \n",
              "\n\n"
            ],
            "text/latex": [
              "\\begin{tabular}{r|lll}\n",
              " academic & general & vocation\\\\\n",
              "\\hline\n",
              "\t 0.1482764 & 0.3382454 & 0.5134781\\\\\n",
              "\t 0.1202017 & 0.1806283 & 0.6991700\\\\\n",
              "\t 0.4186747 & 0.2368082 & 0.3445171\\\\\n",
              "\t 0.1726885 & 0.3508384 & 0.4764731\\\\\n",
              "\t 0.1001231 & 0.1689374 & 0.7309395\\\\\n",
              "\t 0.3533566 & 0.2377976 & 0.4088458\\\\\n",
              "\\end{tabular}\n"
            ],
            "text/plain": [
              "  academic  general   vocation \n",
              "1 0.1482764 0.3382454 0.5134781\n",
              "2 0.1202017 0.1806283 0.6991700\n",
              "3 0.4186747 0.2368082 0.3445171\n",
              "4 0.1726885 0.3508384 0.4764731\n",
              "5 0.1001231 0.1689374 0.7309395\n",
              "6 0.3533566 0.2377976 0.4088458"
            ]
          },
          "metadata": {}
        },
        {
          "output_type": "stream",
          "name": "stdout",
          "text": [
            "[1] \"Result calculated from the package:\"\n"
          ]
        },
        {
          "output_type": "display_data",
          "data": {
            "text/html": [
              "<table>\n",
              "<thead><tr><th></th><th scope=col>academic</th><th scope=col>general</th><th scope=col>vocation</th></tr></thead>\n",
              "<tbody>\n",
              "\t<tr><th scope=row>1</th><td>0.1482764</td><td>0.3382454</td><td>0.5134781</td></tr>\n",
              "\t<tr><th scope=row>2</th><td>0.1202017</td><td>0.1806283</td><td>0.6991700</td></tr>\n",
              "\t<tr><th scope=row>3</th><td>0.4186747</td><td>0.2368082</td><td>0.3445171</td></tr>\n",
              "\t<tr><th scope=row>4</th><td>0.1726885</td><td>0.3508384</td><td>0.4764731</td></tr>\n",
              "\t<tr><th scope=row>5</th><td>0.1001231</td><td>0.1689374</td><td>0.7309395</td></tr>\n",
              "\t<tr><th scope=row>6</th><td>0.3533566</td><td>0.2377976</td><td>0.4088458</td></tr>\n",
              "</tbody>\n",
              "</table>\n"
            ],
            "text/markdown": [
              "\n",
              "| <!--/--> | academic | general | vocation | \n",
              "|---|---|---|---|---|---|\n",
              "| 1 | 0.1482764 | 0.3382454 | 0.5134781 | \n",
              "| 2 | 0.1202017 | 0.1806283 | 0.6991700 | \n",
              "| 3 | 0.4186747 | 0.2368082 | 0.3445171 | \n",
              "| 4 | 0.1726885 | 0.3508384 | 0.4764731 | \n",
              "| 5 | 0.1001231 | 0.1689374 | 0.7309395 | \n",
              "| 6 | 0.3533566 | 0.2377976 | 0.4088458 | \n",
              "\n\n"
            ],
            "text/latex": [
              "\\begin{tabular}{r|lll}\n",
              "  & academic & general & vocation\\\\\n",
              "\\hline\n",
              "\t1 & 0.1482764 & 0.3382454 & 0.5134781\\\\\n",
              "\t2 & 0.1202017 & 0.1806283 & 0.6991700\\\\\n",
              "\t3 & 0.4186747 & 0.2368082 & 0.3445171\\\\\n",
              "\t4 & 0.1726885 & 0.3508384 & 0.4764731\\\\\n",
              "\t5 & 0.1001231 & 0.1689374 & 0.7309395\\\\\n",
              "\t6 & 0.3533566 & 0.2377976 & 0.4088458\\\\\n",
              "\\end{tabular}\n"
            ],
            "text/plain": [
              "  academic  general   vocation \n",
              "1 0.1482764 0.3382454 0.5134781\n",
              "2 0.1202017 0.1806283 0.6991700\n",
              "3 0.4186747 0.2368082 0.3445171\n",
              "4 0.1726885 0.3508384 0.4764731\n",
              "5 0.1001231 0.1689374 0.7309395\n",
              "6 0.3533566 0.2377976 0.4088458"
            ]
          },
          "metadata": {}
        }
      ],
      "execution_count": 73,
      "metadata": {
        "collapsed": false,
        "outputHidden": false,
        "inputHidden": false
      }
    },
    {
      "cell_type": "markdown",
      "source": [
        "We get correct result! \n",
        "\n",
        "To summarize, the multinomial logistic regression model learns the $\\beta$ parameters for the log-odds relative to the baseline class. We need to convert the \"relative probability\" into absolute probability. Going back to the binominal logistic regression model, the negative class is actually set as the baseline. \n",
        "## References\n",
        "* [Glmnet Vignette](https://web.stanford.edu/~hastie/glmnet/glmnet_alpha.html) \n",
        "> The basic definitions and formulas of binomial and multinomial logistic regression are from here. The explanations of binomial logistic regression are from here. \n",
        "* [UCLA course](https://stats.idre.ucla.edu/r/dae/multinomial-logistic-regression/)\n",
        "> The example, part of the R source codes and part of the explanations of multinomial logistic regression are from here. \n",
        "* [Princeton wws509](http://data.princeton.edu/wws509/stata/mlogit.html)\n",
        "> Some ideas and thoughts are from here. \n",
        "\n",
        "## Notes and Thoughts\n",
        "Formula  $[6]$ is from [Glmnet Vignette](https://web.stanford.edu/~hastie/glmnet/glmnet_alpha.html), which is actually not the standard loss function for multinomial logistic regression. In binomial case, we have 2 classes and 2-1=1 set of $\\beta$ parameters. In multinomial case, we have $K$ classes and $K-1$ sets of $\\beta$ parameters. The reason is that we always have a baseline class, and the absolute probabilities across all the other class and the baseline class should sum up to 1. Known the predicted absolute probabilities of the $K-1$ classes, we can automatically know the absolute probability of baseline class. Formula $[6]$ instead has $K$ sets of $\\beta$ parameters, which are dealed by a different solving algorithm in R package glmnet. But the property of summming up to 1 is conserved. "
      ],
      "metadata": {}
    }
  ],
  "metadata": {
    "kernel_info": {
      "name": "ir"
    },
    "language_info": {
      "name": "R",
      "codemirror_mode": "r",
      "pygments_lexer": "r",
      "mimetype": "text/x-r-source",
      "file_extension": ".r",
      "version": "3.4.3"
    },
    "kernelspec": {
      "name": "ir",
      "language": "R",
      "display_name": "R"
    },
    "nteract": {
      "version": "0.11.7"
    }
  },
  "nbformat": 4,
  "nbformat_minor": 4
}